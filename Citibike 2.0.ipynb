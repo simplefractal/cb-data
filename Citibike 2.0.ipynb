{
 "cells": [
  {
   "cell_type": "code",
   "execution_count": 15,
   "metadata": {
    "collapsed": false
   },
   "outputs": [],
   "source": [
    "import classifier\n",
    "import processor"
   ]
  },
  {
   "cell_type": "code",
   "execution_count": 49,
   "metadata": {
    "collapsed": false
   },
   "outputs": [
    {
     "data": {
      "text/plain": [
       "<module 'processor' from 'processor.py'>"
      ]
     },
     "execution_count": 49,
     "metadata": {},
     "output_type": "execute_result"
    }
   ],
   "source": [
    "reload(processor)"
   ]
  },
  {
   "cell_type": "code",
   "execution_count": 54,
   "metadata": {
    "collapsed": false
   },
   "outputs": [
    {
     "data": {
      "text/plain": [
       "<module 'classifier' from 'classifier.py'>"
      ]
     },
     "execution_count": 54,
     "metadata": {},
     "output_type": "execute_result"
    }
   ],
   "source": [
    "reload(classifier)"
   ]
  },
  {
   "cell_type": "code",
   "execution_count": 50,
   "metadata": {
    "collapsed": false
   },
   "outputs": [],
   "source": [
    "data_processor = processor.CBDataProcessor"
   ]
  },
  {
   "cell_type": "code",
   "execution_count": 55,
   "metadata": {
    "collapsed": true
   },
   "outputs": [],
   "source": [
    "cb_classifier = classifier.CBClassifier"
   ]
  },
  {
   "cell_type": "code",
   "execution_count": 43,
   "metadata": {
    "collapsed": false
   },
   "outputs": [],
   "source": [
    "processed = data_processor(\"data/raw_data.csv\", row_limit=1000000).process()"
   ]
  },
  {
   "cell_type": "code",
   "execution_count": 44,
   "metadata": {
    "collapsed": false
   },
   "outputs": [
    {
     "data": {
      "text/plain": [
       "303.4438531398773"
      ]
     },
     "execution_count": 44,
     "metadata": {},
     "output_type": "execute_result"
    }
   ],
   "source": [
    "processed[\"duration\"]"
   ]
  },
  {
   "cell_type": "code",
   "execution_count": 41,
   "metadata": {
    "collapsed": false
   },
   "outputs": [],
   "source": [
    "classified = cb_classifier(\n",
    "    processed[\"data\"],\n",
    "    processed[\"target\"],\n",
    "    classifier=\"random_forest\",\n",
    "    classifier_kwargs={\"n_estimators\": 20},\n",
    "    row_limit=5000).classify()"
   ]
  },
  {
   "cell_type": "code",
   "execution_count": 45,
   "metadata": {
    "collapsed": false
   },
   "outputs": [
    {
     "ename": "AttributeError",
     "evalue": "'dict' object has no attribute 'to_csv'",
     "output_type": "error",
     "traceback": [
      "\u001b[0;31m---------------------------------------------------------------------------\u001b[0m",
      "\u001b[0;31mAttributeError\u001b[0m                            Traceback (most recent call last)",
      "\u001b[0;32m<ipython-input-45-4913900ed332>\u001b[0m in \u001b[0;36m<module>\u001b[0;34m()\u001b[0m\n\u001b[0;32m----> 1\u001b[0;31m \u001b[0mprocessed\u001b[0m\u001b[0;34m.\u001b[0m\u001b[0mto_csv\u001b[0m\u001b[0;34m(\u001b[0m\u001b[0;34m'data/processed_data_1000000.csv'\u001b[0m\u001b[0;34m)\u001b[0m\u001b[0;34m\u001b[0m\u001b[0m\n\u001b[0m",
      "\u001b[0;31mAttributeError\u001b[0m: 'dict' object has no attribute 'to_csv'"
     ]
    }
   ],
   "source": [
    "processed.to_csv('data/processed_data_1000000.csv')"
   ]
  },
  {
   "cell_type": "code",
   "execution_count": 42,
   "metadata": {
    "collapsed": false
   },
   "outputs": [
    {
     "data": {
      "text/plain": [
       "{'duration': 0.2639319896697998,\n",
       " 'k_folds': 5,\n",
       " 'mean': 0.82868008948545868,\n",
       " 'rows': 5000,\n",
       " 'std': 0.037851756649920722}"
      ]
     },
     "execution_count": 42,
     "metadata": {},
     "output_type": "execute_result"
    }
   ],
   "source": [
    "classified"
   ]
  },
  {
   "cell_type": "code",
   "execution_count": 51,
   "metadata": {
    "collapsed": true
   },
   "outputs": [],
   "source": [
    "processed = data_processor(\"data/raw_data.csv\", row_limit=10000).process()"
   ]
  },
  {
   "cell_type": "code",
   "execution_count": 52,
   "metadata": {
    "collapsed": true
   },
   "outputs": [],
   "source": [
    "much_processed = data_processor(\"data/raw_data.csv\", row_limit=1000000).process()"
   ]
  },
  {
   "cell_type": "code",
   "execution_count": 53,
   "metadata": {
    "collapsed": false
   },
   "outputs": [
    {
     "data": {
      "text/plain": [
       "288.3391110897064"
      ]
     },
     "execution_count": 53,
     "metadata": {},
     "output_type": "execute_result"
    }
   ],
   "source": [
    "much_processed[\"duration\"]"
   ]
  },
  {
   "cell_type": "code",
   "execution_count": 71,
   "metadata": {
    "collapsed": false
   },
   "outputs": [
    {
     "name": "stdout",
     "output_type": "stream",
     "text": [
      "{'std': 0.15242871091681054, 'duration': 0.03808903694152832, 'rows': 1000000, 'k_folds': 5, 'mean': 0.80582010582010588}\n"
     ]
    }
   ],
   "source": [
    "dat = cb_classifier(\n",
    "    processed[\"data\"],\n",
    "    processed[\"target\"],\n",
    "    classifier=\"logistic\",\n",
    "    classifier_kwargs={\"C\": .01},\n",
    "    row_limit=1000000).classify()\n",
    "print dat"
   ]
  },
  {
   "cell_type": "code",
   "execution_count": 67,
   "metadata": {
    "collapsed": false
   },
   "outputs": [
    {
     "data": {
      "text/plain": [
       "{'duration': 0.03384208679199219,\n",
       " 'k_folds': 5,\n",
       " 'mean': 0.80582010582010588,\n",
       " 'rows': 1000000,\n",
       " 'std': 0.15242871091681054}"
      ]
     },
     "execution_count": 67,
     "metadata": {},
     "output_type": "execute_result"
    }
   ],
   "source": [
    "dat"
   ]
  },
  {
   "cell_type": "code",
   "execution_count": 58,
   "metadata": {
    "collapsed": false
   },
   "outputs": [
    {
     "data": {
      "text/plain": [
       "{'duration': 0.040747880935668945,\n",
       " 'k_folds': 5,\n",
       " 'mean': 0.80582010582010588,\n",
       " 'rows': 5000,\n",
       " 'std': 0.15898216327088774}"
      ]
     },
     "execution_count": 58,
     "metadata": {},
     "output_type": "execute_result"
    }
   ],
   "source": [
    "logistic"
   ]
  },
  {
   "cell_type": "code",
   "execution_count": 76,
   "metadata": {
    "collapsed": false
   },
   "outputs": [
    {
     "name": "stdout",
     "output_type": "stream",
     "text": [
      "{'std': 0.13712434145700111, 'duration': 1.5242860317230225, 'rows': 1000000, 'k_folds': 5, 'mean': 0.85661375661375661}\n"
     ]
    }
   ],
   "source": [
    "classified = cb_classifier(\n",
    "    processed[\"data\"],\n",
    "    processed[\"target\"],\n",
    "    classifier=\"random_forest\",\n",
    "    classifier_kwargs={\"n_estimators\": 400},\n",
    "    row_limit=1000000).classify()\n",
    "print classified"
   ]
  },
  {
   "cell_type": "code",
   "execution_count": 78,
   "metadata": {
    "collapsed": false
   },
   "outputs": [
    {
     "name": "stdout",
     "output_type": "stream",
     "text": [
      "{'std': 0.15316859343371986, 'duration': 7.0761799812316895, 'rows': 1000000, 'k_folds': 10, 'mean': 0.87743589743589756}\n"
     ]
    }
   ],
   "source": [
    "classified = cb_classifier(\n",
    "    processed[\"data\"],\n",
    "    processed[\"target\"],\n",
    "    classifier=\"random_forest\",\n",
    "    classifier_kwargs={\"n_estimators\": 1000},\n",
    "    k_folds=10,\n",
    "    row_limit=1000000).classify()\n",
    "print classified"
   ]
  },
  {
   "cell_type": "code",
   "execution_count": null,
   "metadata": {
    "collapsed": true
   },
   "outputs": [],
   "source": []
  }
 ],
 "metadata": {
  "kernelspec": {
   "display_name": "Python 2",
   "language": "python",
   "name": "python2"
  },
  "language_info": {
   "codemirror_mode": {
    "name": "ipython",
    "version": 2
   },
   "file_extension": ".py",
   "mimetype": "text/x-python",
   "name": "python",
   "nbconvert_exporter": "python",
   "pygments_lexer": "ipython2",
   "version": "2.7.10"
  }
 },
 "nbformat": 4,
 "nbformat_minor": 0
}
